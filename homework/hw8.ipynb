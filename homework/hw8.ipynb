{
 "cells": [
  {
   "cell_type": "code",
   "execution_count": 98,
   "metadata": {},
   "outputs": [],
   "source": [
    "import pandas as pd\n",
    "import numpy as np\n",
    "from scipy.stats import zscore\n",
    "import category_encoders as ce \n",
    "    # conda install category_encoders\n",
    "from sklearn.neighbors import KNeighborsRegressor\n",
    "from sklearn.preprocessing import PowerTransformer, StandardScaler\n",
    "from sklearn.metrics import mean_absolute_percentage_error\n",
    "import seaborn as sns\n",
    "import matplotlib.pyplot as plt"
   ]
  },
  {
   "cell_type": "code",
   "execution_count": 99,
   "metadata": {},
   "outputs": [
    {
     "data": {
      "text/html": [
       "<div>\n",
       "<style scoped>\n",
       "    .dataframe tbody tr th:only-of-type {\n",
       "        vertical-align: middle;\n",
       "    }\n",
       "\n",
       "    .dataframe tbody tr th {\n",
       "        vertical-align: top;\n",
       "    }\n",
       "\n",
       "    .dataframe thead th {\n",
       "        text-align: right;\n",
       "    }\n",
       "</style>\n",
       "<table border=\"1\" class=\"dataframe\">\n",
       "  <thead>\n",
       "    <tr style=\"text-align: right;\">\n",
       "      <th></th>\n",
       "      <th>Name</th>\n",
       "      <th>Phone_Number</th>\n",
       "      <th>Experience</th>\n",
       "      <th>Qualification</th>\n",
       "      <th>University</th>\n",
       "      <th>Role</th>\n",
       "      <th>Cert</th>\n",
       "      <th>Date_Of_Birth</th>\n",
       "      <th>Salary</th>\n",
       "    </tr>\n",
       "  </thead>\n",
       "  <tbody>\n",
       "    <tr>\n",
       "      <th>0</th>\n",
       "      <td>Jennifer Hernandez</td>\n",
       "      <td>120-602-1220</td>\n",
       "      <td>3.0</td>\n",
       "      <td>Msc</td>\n",
       "      <td>Tier2</td>\n",
       "      <td>Mid</td>\n",
       "      <td>Yes</td>\n",
       "      <td>25/08/1972</td>\n",
       "      <td>98000</td>\n",
       "    </tr>\n",
       "    <tr>\n",
       "      <th>1</th>\n",
       "      <td>Timothy Walker</td>\n",
       "      <td>840-675-8650</td>\n",
       "      <td>5.0</td>\n",
       "      <td>PhD</td>\n",
       "      <td>Tier2</td>\n",
       "      <td>Senior</td>\n",
       "      <td>Yes</td>\n",
       "      <td>03/12/2013</td>\n",
       "      <td>135500</td>\n",
       "    </tr>\n",
       "    <tr>\n",
       "      <th>2</th>\n",
       "      <td>David Duran</td>\n",
       "      <td>556-293-8643</td>\n",
       "      <td>5.0</td>\n",
       "      <td>Msc</td>\n",
       "      <td>Tier2</td>\n",
       "      <td>Senior</td>\n",
       "      <td>Yes</td>\n",
       "      <td>19/07/2002</td>\n",
       "      <td>123500</td>\n",
       "    </tr>\n",
       "    <tr>\n",
       "      <th>3</th>\n",
       "      <td>Gloria Ortega</td>\n",
       "      <td>463-559-7474</td>\n",
       "      <td>3.0</td>\n",
       "      <td>Bsc</td>\n",
       "      <td>Tier3</td>\n",
       "      <td>Mid</td>\n",
       "      <td>No</td>\n",
       "      <td>19/02/1970</td>\n",
       "      <td>85000</td>\n",
       "    </tr>\n",
       "    <tr>\n",
       "      <th>4</th>\n",
       "      <td>Matthew Steele</td>\n",
       "      <td>968-091-7683</td>\n",
       "      <td>5.0</td>\n",
       "      <td>Bsc</td>\n",
       "      <td>Tier2</td>\n",
       "      <td>Senior</td>\n",
       "      <td>Yes</td>\n",
       "      <td>20/02/1970</td>\n",
       "      <td>111500</td>\n",
       "    </tr>\n",
       "  </tbody>\n",
       "</table>\n",
       "</div>"
      ],
      "text/plain": [
       "                 Name  Phone_Number  Experience  ... Cert Date_Of_Birth  Salary\n",
       "0  Jennifer Hernandez  120-602-1220         3.0  ...  Yes    25/08/1972   98000\n",
       "1      Timothy Walker  840-675-8650         5.0  ...  Yes    03/12/2013  135500\n",
       "2         David Duran  556-293-8643         5.0  ...  Yes    19/07/2002  123500\n",
       "3       Gloria Ortega  463-559-7474         3.0  ...   No    19/02/1970   85000\n",
       "4      Matthew Steele  968-091-7683         5.0  ...  Yes    20/02/1970  111500\n",
       "\n",
       "[5 rows x 9 columns]"
      ]
     },
     "execution_count": 99,
     "metadata": {},
     "output_type": "execute_result"
    }
   ],
   "source": [
    "# Завантаження даних\n",
    "data = pd.read_csv('../datasets/mod_04_hw_train_data.csv')\n",
    "data.head()"
   ]
  },
  {
   "cell_type": "code",
   "execution_count": 100,
   "metadata": {},
   "outputs": [
    {
     "data": {
      "text/html": [
       "<div>\n",
       "<style scoped>\n",
       "    .dataframe tbody tr th:only-of-type {\n",
       "        vertical-align: middle;\n",
       "    }\n",
       "\n",
       "    .dataframe tbody tr th {\n",
       "        vertical-align: top;\n",
       "    }\n",
       "\n",
       "    .dataframe thead th {\n",
       "        text-align: right;\n",
       "    }\n",
       "</style>\n",
       "<table border=\"1\" class=\"dataframe\">\n",
       "  <thead>\n",
       "    <tr style=\"text-align: right;\">\n",
       "      <th></th>\n",
       "      <th>Name</th>\n",
       "      <th>Phone_Number</th>\n",
       "      <th>Experience</th>\n",
       "      <th>Qualification</th>\n",
       "      <th>University</th>\n",
       "      <th>Role</th>\n",
       "      <th>Cert</th>\n",
       "      <th>Date_Of_Birth</th>\n",
       "      <th>Salary</th>\n",
       "    </tr>\n",
       "  </thead>\n",
       "  <tbody>\n",
       "    <tr>\n",
       "      <th>0</th>\n",
       "      <td>Alvaro Johnson</td>\n",
       "      <td>320-636-8883</td>\n",
       "      <td>7</td>\n",
       "      <td>Bsc</td>\n",
       "      <td>Tier1</td>\n",
       "      <td>Senior</td>\n",
       "      <td>No</td>\n",
       "      <td>12/03/1978</td>\n",
       "      <td>109300</td>\n",
       "    </tr>\n",
       "    <tr>\n",
       "      <th>1</th>\n",
       "      <td>Austin Powers</td>\n",
       "      <td>903-121-1691</td>\n",
       "      <td>2</td>\n",
       "      <td>Msc</td>\n",
       "      <td>Tier1</td>\n",
       "      <td>Mid</td>\n",
       "      <td>Yes</td>\n",
       "      <td>13/03/1992</td>\n",
       "      <td>84800</td>\n",
       "    </tr>\n",
       "    <tr>\n",
       "      <th>2</th>\n",
       "      <td>Joshua Phil</td>\n",
       "      <td>673-972-2453</td>\n",
       "      <td>3</td>\n",
       "      <td>Bsc</td>\n",
       "      <td>Tier3</td>\n",
       "      <td>Mid</td>\n",
       "      <td>Yes</td>\n",
       "      <td>19/02/1988</td>\n",
       "      <td>98900</td>\n",
       "    </tr>\n",
       "    <tr>\n",
       "      <th>3</th>\n",
       "      <td>Mirinda Collins</td>\n",
       "      <td>310-364-6925</td>\n",
       "      <td>5</td>\n",
       "      <td>Msc</td>\n",
       "      <td>Tier2</td>\n",
       "      <td>Senior</td>\n",
       "      <td>No</td>\n",
       "      <td>20/03/1989</td>\n",
       "      <td>116500</td>\n",
       "    </tr>\n",
       "    <tr>\n",
       "      <th>4</th>\n",
       "      <td>Mustapha Green</td>\n",
       "      <td>401-249-3912</td>\n",
       "      <td>3</td>\n",
       "      <td>PhD</td>\n",
       "      <td>Tier1</td>\n",
       "      <td>Junior</td>\n",
       "      <td>Yes</td>\n",
       "      <td>21/03/1979</td>\n",
       "      <td>75800</td>\n",
       "    </tr>\n",
       "  </tbody>\n",
       "</table>\n",
       "</div>"
      ],
      "text/plain": [
       "              Name  Phone_Number  Experience  ... Cert Date_Of_Birth  Salary\n",
       "0   Alvaro Johnson  320-636-8883           7  ...   No    12/03/1978  109300\n",
       "1    Austin Powers  903-121-1691           2  ...  Yes    13/03/1992   84800\n",
       "2      Joshua Phil  673-972-2453           3  ...  Yes    19/02/1988   98900\n",
       "3  Mirinda Collins  310-364-6925           5  ...   No    20/03/1989  116500\n",
       "4   Mustapha Green  401-249-3912           3  ...  Yes    21/03/1979   75800\n",
       "\n",
       "[5 rows x 9 columns]"
      ]
     },
     "execution_count": 100,
     "metadata": {},
     "output_type": "execute_result"
    }
   ],
   "source": [
    "valid = pd.read_csv('../datasets/mod_04_hw_valid_data.csv')\n",
    "valid.head()"
   ]
  },
  {
   "cell_type": "code",
   "execution_count": 101,
   "metadata": {},
   "outputs": [
    {
     "data": {
      "text/plain": [
       "Role             0.012048\n",
       "Experience       0.008032\n",
       "Cert             0.008032\n",
       "Qualification    0.004016\n",
       "Name             0.000000\n",
       "Phone_Number     0.000000\n",
       "University       0.000000\n",
       "Date_Of_Birth    0.000000\n",
       "Salary           0.000000\n",
       "dtype: float64"
      ]
     },
     "execution_count": 101,
     "metadata": {},
     "output_type": "execute_result"
    }
   ],
   "source": [
    "# процент пропусків за кожною колонкою.\n",
    "data.isna().mean().sort_values(ascending=False)"
   ]
  },
  {
   "cell_type": "code",
   "execution_count": 102,
   "metadata": {},
   "outputs": [],
   "source": [
    "# Оскільки пропусків тільки до 2% - ми їх видалимо\n",
    "data = data.dropna()"
   ]
  },
  {
   "cell_type": "code",
   "execution_count": 103,
   "metadata": {},
   "outputs": [],
   "source": [
    "# ----Зміна категоріальних ознак на числові покращення результату не дало \n",
    "# # Зміна 'Role' на int\n",
    "# role_mapping = {'Junior': 1,'Mid': 2,'Senior': 3}\n",
    "# data['Role'] = data['Role'].map(role_mapping).astype(int)\n",
    "\n",
    "# # Зміна 'Qualification' на int\n",
    "# qualification_mapping = {'Bsc': 1, 'Msc': 2, 'PhD': 3}\n",
    "# data['Qualification'] = data['Qualification'].map(qualification_mapping).astype(int)\n",
    "\n",
    "# # Зміна 'University' на int\n",
    "# u_mapping = {'Tier1': 1, 'Tier2': 2, 'Tier3': 3}\n",
    "# data['University'] = data['University'].map(u_mapping).astype(int)"
   ]
  },
  {
   "cell_type": "code",
   "execution_count": 104,
   "metadata": {},
   "outputs": [],
   "source": [
    "# ----Неправдиві дані не дозволили нам використати вік з датасету (деяким людям по 3 роки)\n",
    "# Одразу отримуємо вік з Date_Of_Birth\n",
    "# data['Age'] = data['Date_Of_Birth'].apply(lambda x: 2024 - int(x.split('/')[2]))\n",
    "# data = data.drop('Date_Of_Birth', axis=1)\n",
    "\n",
    "# valid['Age'] = valid['Date_Of_Birth'].apply(lambda x: 2024 - int(x.split('/')[2]))\n",
    "# valid = valid.drop('Date_Of_Birth', axis=1)\n"
   ]
  },
  {
   "cell_type": "code",
   "execution_count": 105,
   "metadata": {},
   "outputs": [
    {
     "data": {
      "image/png": "[encoded data removed]",
      "text/plain": [
       "<Figure size 1500x900 with 9 Axes>"
      ]
     },
     "metadata": {},
     "output_type": "display_data"
    }
   ],
   "source": [
    "# Розподіли ознак\n",
    "melted = data.melt()\n",
    "g = sns.FacetGrid(melted,\n",
    "                  col='variable',\n",
    "                  col_wrap=4,\n",
    "                  sharex=False,\n",
    "                  sharey=False,\n",
    "                  aspect=1.25)\n",
    "g.map(sns.histplot, 'value')\n",
    "g.set_titles(col_template='{col_name}')\n",
    "g.tight_layout()\n",
    "plt.show()"
   ]
  },
  {
   "cell_type": "code",
   "execution_count": 106,
   "metadata": {},
   "outputs": [],
   "source": [
    "y_train = data.pop(\"Salary\")"
   ]
  },
  {
   "cell_type": "code",
   "execution_count": 107,
   "metadata": {},
   "outputs": [],
   "source": [
    "# Розбиваємо на числові та категоріальні підмножини:\n",
    "data_num = data.select_dtypes(include=np.number)\n",
    "data_cat = data.select_dtypes(include='object')"
   ]
  },
  {
   "cell_type": "code",
   "execution_count": 108,
   "metadata": {},
   "outputs": [],
   "source": [
    "# ----Відновлення пропущених значень не потрібно, оскільки ми їх видалили в рядку 33\n",
    "# Відновлення пропущених числових значень\n",
    "# num_imputer = SimpleImputer().set_output(transform='pandas')\n",
    "# data_num = num_imputer.fit_transform(data_num)\n",
    "\n",
    "# Відновлення пропущених категоріальних значень:\n",
    "# cat_imputer = SimpleImputer(\n",
    "#     strategy='most_frequent').set_output(transform='pandas')\n",
    "# data_cat = cat_imputer.fit_transform(data_cat)"
   ]
  },
  {
   "cell_type": "code",
   "execution_count": 109,
   "metadata": {},
   "outputs": [],
   "source": [
    "# ----Отримання коду з номеру телефону, який міг би вказати про регіон проживання не допомогло (майже всі коди різні)\n",
    "# data_cat['Phone_Code'] = data_cat['Phone_Number'].apply(lambda x: x.split('-')[0])\n",
    "#valid_cat = valid_cat.drop('Phone_Number'], axis=1)"
   ]
  },
  {
   "cell_type": "code",
   "execution_count": 110,
   "metadata": {},
   "outputs": [],
   "source": [
    "# Нормалізація числових ознак за допомогою об'єкта StandardScaler або PowerTransformer з пакету sklearn\n",
    "# scaler = StandardScaler().set_output(transform='pandas')\n",
    "scaler = PowerTransformer().set_output(transform='pandas')\n",
    "X_train_num = scaler.fit_transform(data_num)"
   ]
  },
  {
   "cell_type": "code",
   "execution_count": 111,
   "metadata": {},
   "outputs": [
    {
     "name": "stdout",
     "output_type": "stream",
     "text": [
      "P-значення для Name і Phone_Number: 0.23990069294989605\n",
      "P-значення для Name і Qualification: 0.4401618610663437\n",
      "P-значення для Name і University: 0.48279522278539283\n",
      "P-значення для Name і Role: 0.48213593692566975\n",
      "P-значення для Name і Cert: 0.4515677151518249\n",
      "P-значення для Name і Date_Of_Birth: 0.24266672294379255\n",
      "P-значення для Phone_Number і Name: 0.23990069294988275\n",
      "P-значення для Phone_Number і Qualification: 0.465744513631543\n",
      "P-значення для Phone_Number і University: 0.4657445136315423\n",
      "P-значення для Phone_Number і Role: 0.4657445136315423\n",
      "P-значення для Phone_Number і Cert: 0.46970760966226444\n",
      "P-значення для Phone_Number і Date_Of_Birth: 0.24035830481438492\n",
      "P-значення для Qualification і Name: 0.4401618610663437\n",
      "P-значення для Qualification і Phone_Number: 0.465744513631543\n",
      "P-значення для Qualification і University: 4.3117800711973695e-05\n",
      "P-значення для Qualification і Role: 0.09319429031977836\n",
      "P-значення для Qualification і Cert: 0.8526451488787683\n",
      "P-значення для Qualification і Date_Of_Birth: 0.4855168365620194\n",
      "P-значення для University і Name: 0.48279522278539205\n",
      "P-значення для University і Phone_Number: 0.4657445136315423\n",
      "P-значення для University і Qualification: 4.3117800711973695e-05\n",
      "P-значення для University і Role: 0.975787602550573\n",
      "P-значення для University і Cert: 0.9636684993282493\n",
      "P-значення для University і Date_Of_Birth: 0.45704075711136705\n",
      "P-значення для Role і Name: 0.4821359369256705\n",
      "P-значення для Role і Phone_Number: 0.465744513631543\n",
      "P-значення для Role і Qualification: 0.09319429031977836\n",
      "P-значення для Role і University: 0.975787602550573\n",
      "P-значення для Role і Cert: 0.9176711468513354\n",
      "P-значення для Role і Date_Of_Birth: 0.4563851803431766\n",
      "P-значення для Cert і Name: 0.4515677151518255\n",
      "P-значення для Cert і Phone_Number: 0.46970760966226444\n",
      "P-значення для Cert і Qualification: 0.8526451488787683\n",
      "P-значення для Cert і University: 0.9636684993282493\n",
      "P-значення для Cert і Role: 0.9176711468513354\n",
      "P-значення для Cert і Date_Of_Birth: 0.46963184084895065\n",
      "P-значення для Date_Of_Birth і Name: 0.24266672294379255\n",
      "P-значення для Date_Of_Birth і Phone_Number: 0.24035830481439163\n",
      "P-значення для Date_Of_Birth і Qualification: 0.4855168365620194\n",
      "P-значення для Date_Of_Birth і University: 0.45704075711136705\n",
      "P-значення для Date_Of_Birth і Role: 0.4563851803431766\n",
      "P-значення для Date_Of_Birth і Cert: 0.46963184084895065\n"
     ]
    }
   ],
   "source": [
    "# Спроба знайти залежність між категоріальними ознаками\n",
    "from scipy.stats import chi2_contingency\n",
    "\n",
    "# Функція для обчислення Chi-Square тесту\n",
    "def chi_square_test(col1, col2):\n",
    "    confusion_matrix = pd.crosstab(col1, col2)\n",
    "    chi2, p, dof, expected = chi2_contingency(confusion_matrix)\n",
    "    return p  # p-значення тесту\n",
    "\n",
    "# Обчислення p-значення для кожної пари змінних\n",
    "for col1 in data_cat.columns:\n",
    "    for col2 in data_cat.columns:\n",
    "        if col1 != col2:\n",
    "            p_value = chi_square_test(data_cat[col1], data_cat[col2])\n",
    "            print(f'P-значення для {col1} і {col2}: {p_value}')\n",
    "# Chi-Square тест показує статистичну значущість залежності, де низьке p-значення (наприклад, менше 0.05) свідчить про наявність залежності між змінними."
   ]
  },
  {
   "cell_type": "code",
   "execution_count": 112,
   "metadata": {},
   "outputs": [],
   "source": [
    "# Категоріальні ознаки. \n",
    "# Видаляємо 'Phone_Number', \"Name\", \"Date_Of_Birth\" які всі різні і як категорії не підходять\n",
    "# видалення \"Qualification\" підбрано,- найкраше покращує результат (з Qualification та University, які по Chi-Squareу залежні)\n",
    "data_cat = data_cat.drop(['Phone_Number', \"Name\", \"Date_Of_Birth\", \"Qualification\"], axis=1)"
   ]
  },
  {
   "cell_type": "code",
   "execution_count": 113,
   "metadata": {},
   "outputs": [],
   "source": [
    "# Кодування категоріальних ознак (наприклад, за допомогою об’єктів OneHotEncoder / TargetEncoder з пакета category_encoders).\n",
    "encoder = ce.OneHotEncoder()\n",
    "# encoder = ce.TargetEncoder()\n",
    "\n",
    "X_train_cat = encoder.fit_transform(data_cat, y_train)"
   ]
  },
  {
   "cell_type": "code",
   "execution_count": 114,
   "metadata": {},
   "outputs": [],
   "source": [
    "# 7. Об'єднання підмножини з числовими і категоріальними ознаками (після кодування) в одну:\n",
    "X_train = pd.concat([X_train_num, X_train_cat], axis=1)"
   ]
  },
  {
   "cell_type": "code",
   "execution_count": 115,
   "metadata": {},
   "outputs": [],
   "source": [
    "# Навчаємо модель і отримуємо прогнози (підібрано гіперпараметри):\n",
    "model = (KNeighborsRegressor(n_neighbors=20, weights='uniform', algorithm='auto', leaf_size=12, p=1, metric='minkowski', metric_params=None, n_jobs=None)\n",
    "       .fit(X_train, y_train))"
   ]
  },
  {
   "cell_type": "code",
   "execution_count": 116,
   "metadata": {},
   "outputs": [
    {
     "data": {
      "text/plain": [
       "(241, 9)"
      ]
     },
     "execution_count": 116,
     "metadata": {},
     "output_type": "execute_result"
    }
   ],
   "source": [
    "# Обробка VALID dataset\n",
    "y_true = valid.pop(\"Salary\")\n",
    "\n",
    "# # Зміна типу на int\n",
    "# valid['Role'] = valid['Role'].map(role_mapping).astype(int)\n",
    "# valid['Qualification'] = valid['Qualification'].map(qualification_mapping).astype(int)\n",
    "# valid['University'] = valid['University'].map(u_mapping).astype(int)\n",
    "\n",
    "# 3.2.Розбиваємо датасет на підмножини\n",
    "valid_num = valid.select_dtypes(include=np.number)\n",
    "valid_cat = valid.select_dtypes(include='object')\n",
    "\n",
    "# Нормалізація числових, кодування категоріальних\n",
    "X_test_num = scaler.transform(valid_num)\n",
    "\n",
    "valid_cat = valid_cat.drop(['Phone_Number', \"Name\", \"Date_Of_Birth\", \"Qualification\"], axis=1)\n",
    "X_test_cat = encoder.transform(valid_cat)\n",
    "\n",
    "# 7. Об'єднання підмножини\n",
    "X_test = pd.concat([X_test_num, X_test_cat], axis=1)\n",
    "X_train.shape"
   ]
  },
  {
   "cell_type": "code",
   "execution_count": 117,
   "metadata": {},
   "outputs": [
    {
     "name": "stdout",
     "output_type": "stream",
     "text": [
      "Validation MAPE: 1.64%\n"
     ]
    }
   ],
   "source": [
    "# Результат\n",
    "y_pred = model.predict(X_test)\n",
    "mape = mean_absolute_percentage_error(y_true, y_pred)\n",
    "print(f'Validation MAPE: {mape:.2%}')\n",
    "# Validation MAPE: 1.64%"
   ]
  },
  {
   "cell_type": "markdown",
   "metadata": {},
   "source": [
    "# Аналіз результатів:\n",
    "1. Розподіл ознак показав що \"Phone_Number\", \"Name\" та \"Date_Of_Birth\" мали унікальні значення для кожного запису і не могли бути корисними для моделі,- тому видалені з обчислення.\n",
    "2. Спроба зміни категоріальних ознак на числові покращення результату не дало. Ідея було в тому, що це не просто категорії, а градовані категорії (зрозуміло що Senior вище Mid чи Junior; Doctor вище Master чи Bakalavr, а не просто інша категорія)\n",
    "3. Спроба отриманя віку людини з \"Date_Of_Birth\" (який міщ би впливати на зарплату) покрашення не дала. Деяким людям по 3 чи 4 роки\n",
    "4. Отримання коду з номеру телефону (який міг би вказати про регіон проживання і втявити більш бідні чи багаті райони) не допомогло - майже всі коди різні (максимум 3 людини на одному коді)\n",
    "5. Chi-Squareу-тест виявив залежність між категоріями Qualification та University, а видалення з них \"Qualification\" значно покращує кінцевий результат. До видалення ознаки \"Qualification\" ми не могли подолати рубіж Validation MAPE: 5.0%\n",
    "\n",
    "# Висновки:\n",
    "* З використаних для нормалізації числових ознак StandardScaler та PowerTransformer - краші результати показав PowerTransformer()\n",
    "* В кодуванні категоріальних ознак з OneHotEncoder та TargetEncoder кращий результат показав OneHotEncoder()\n",
    "* Підбір параметрів KNeighborsRegressor(n_neighbors=20, leaf_size=12, p=1) після вилаленя ознаки \"Qualification\" дозволив нам досягнути середньої абсолютної відносної помилки моделі на валідаційному наборі 1.64%.\n"
   ]
  }
 ],
 "metadata": {
  "anaconda-cloud": {},
  "kernelspec": {
   "display_name": "Python 3 (Spyder)",
   "language": "python3",
   "name": "python3"
  },
  "language_info": {
   "codemirror_mode": {
    "name": "ipython",
    "version": 3
   },
   "file_extension": ".py",
   "mimetype": "text/x-python",
   "name": "python",
   "nbconvert_exporter": "python",
   "pygments_lexer": "ipython3",
   "version": "3.11.10"
  }
 },
 "nbformat": 4,
 "nbformat_minor": 4
}
